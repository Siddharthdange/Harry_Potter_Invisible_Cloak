{
 "cells": [
  {
   "cell_type": "code",
   "execution_count": null,
   "metadata": {},
   "outputs": [],
   "source": [
    "import cv2\n",
    "import numpy as np\n",
    "import time\n",
    "\n",
    "capture_video = cv2.VideoCapture(0)\n",
    "\n",
    "# give the camera to warm up\n",
    "time.sleep(1)\n",
    "count = 0\n",
    "background = 0\n",
    "\n",
    "#just leave the screen up and running for like 5 sec ith just background \n",
    "for i in range(60):\n",
    "    return_val, background = capture_video.read()\n",
    "    if return_val == False:\n",
    "        continue\n",
    "\n",
    "background = np.flip(background, axis=1)  # flipping of the frame\n",
    "\n",
    "while (capture_video.isOpened()):\n",
    "    return_val, img = capture_video.read()\n",
    "    if not return_val:\n",
    "        break\n",
    "    count = count + 1\n",
    "    img = np.flip(img, axis=1)\n",
    "\n",
    "    # convert the image - BGR to HSV\n",
    "    hsv = cv2.cvtColor(img, cv2.COLOR_BGR2HSV)\n",
    "    lower_red = np.array([100, 40, 40])\n",
    "    upper_red = np.array([100, 255, 255])\n",
    "    mask1 = cv2.inRange(hsv, lower_red, upper_red)\n",
    "    # setting the lower and upper range for mask2\n",
    "    lower_red = np.array([155, 40, 40])\n",
    "    upper_red = np.array([180, 255, 255])\n",
    "    mask2 = cv2.inRange(hsv, lower_red, upper_red)\n",
    "\n",
    "    # the above block of code could be replaced with\n",
    "    # some other code depending upon the color of your cloth\n",
    "    # i am using red you can use any R G B colour\n",
    "    mask1 = mask1 + mask2\n",
    "\n",
    "    # Refining the mask corresponding to the detected red color\n",
    "    mask1 = cv2.morphologyEx(mask1, cv2.MORPH_OPEN, np.ones((3, 3),np.uint8), iterations=2)\n",
    "    mask1 = cv2.dilate(mask1, np.ones((3, 3), np.uint8), iterations=1)\n",
    "    mask2 = cv2.bitwise_not(mask1)\n",
    "\n",
    "    # Generating the final output\n",
    "    res1 = cv2.bitwise_and(background, background, mask=mask1)\n",
    "    res2 = cv2.bitwise_and(img, img, mask=mask2)\n",
    "    final_output = cv2.addWeighted(res1, 1, res2, 1, 0)\n",
    "\n",
    "    cv2.imshow(\"INVISIBLE CLOAK\", final_output)\n",
    "    k = cv2.waitKey(10)\n",
    "    if k == 27:\n",
    "        break"
   ]
  },
  {
   "cell_type": "code",
   "execution_count": null,
   "metadata": {},
   "outputs": [],
   "source": []
  }
 ],
 "metadata": {
  "kernelspec": {
   "display_name": "Python 3",
   "language": "python",
   "name": "python3"
  },
  "language_info": {
   "codemirror_mode": {
    "name": "ipython",
    "version": 3
   },
   "file_extension": ".py",
   "mimetype": "text/x-python",
   "name": "python",
   "nbconvert_exporter": "python",
   "pygments_lexer": "ipython3",
   "version": "3.7.6"
  }
 },
 "nbformat": 4,
 "nbformat_minor": 4
}
